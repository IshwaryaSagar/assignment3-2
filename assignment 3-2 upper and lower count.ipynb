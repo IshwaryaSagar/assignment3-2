{
 "cells": [
  {
   "cell_type": "markdown",
   "id": "bbfbbe31",
   "metadata": {},
   "source": [
    "# lower case and upper case count"
   ]
  },
  {
   "cell_type": "code",
   "execution_count": 2,
   "id": "95515e7d",
   "metadata": {},
   "outputs": [
    {
     "name": "stdout",
     "output_type": "stream",
     "text": [
      "enter a sentence::::The quick Brow Fox\n",
      "No. of Upper case characters: 3\n",
      "No. of Lower case characters: 12\n"
     ]
    }
   ],
   "source": [
    "sample=input(\"enter a sentence::::\")\n",
    "uppercase=0\n",
    "lowercase=0\n",
    "for ch in sample:\n",
    "    if str.isupper(ch):\n",
    "        uppercase+=1\n",
    "    elif str.islower(ch):\n",
    "            lowercase+=1\n",
    "print(\"No. of Upper case characters:\", uppercase)\n",
    "print(\"No. of Lower case characters:\", lowercase)"
   ]
  },
  {
   "cell_type": "code",
   "execution_count": null,
   "id": "4bfd0bfb",
   "metadata": {},
   "outputs": [],
   "source": []
  }
 ],
 "metadata": {
  "kernelspec": {
   "display_name": "Python 3 (ipykernel)",
   "language": "python",
   "name": "python3"
  },
  "language_info": {
   "codemirror_mode": {
    "name": "ipython",
    "version": 3
   },
   "file_extension": ".py",
   "mimetype": "text/x-python",
   "name": "python",
   "nbconvert_exporter": "python",
   "pygments_lexer": "ipython3",
   "version": "3.9.7"
  }
 },
 "nbformat": 4,
 "nbformat_minor": 5
}
